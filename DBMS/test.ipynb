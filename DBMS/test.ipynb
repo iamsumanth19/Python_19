{
 "cells": [
  {
   "cell_type": "code",
   "execution_count": 1,
   "metadata": {},
   "outputs": [
    {
     "name": "stdout",
     "output_type": "stream",
     "text": [
      "Hello\n"
     ]
    }
   ],
   "source": [
    "print(\"Hello\")"
   ]
  },
  {
   "cell_type": "code",
   "execution_count": 4,
   "metadata": {},
   "outputs": [],
   "source": [
    "import MySQLdb"
   ]
  },
  {
   "cell_type": "code",
   "execution_count": 12,
   "metadata": {},
   "outputs": [
    {
     "name": "stdout",
     "output_type": "stream",
     "text": [
      "Database version: ('8.0.41',)\n"
     ]
    }
   ],
   "source": [
    "import MySQLdb\n",
    "\n",
    "# Connect to the database\n",
    "db = MySQLdb.connect(\n",
    "    host=\"localhost\",\n",
    "    user=\"root\",\n",
    "    passwd=\"root\",\n",
    "    db=\"pg_management\"\n",
    ")\n",
    "\n",
    "# Create a cursor object to interact with the database\n",
    "cursor = db.cursor()\n",
    "\n",
    "# Test the connection by executing a query\n",
    "cursor.execute(\"SELECT VERSION()\")\n",
    "version = cursor.fetchone()\n",
    "print(\"Database version:\", version)\n",
    "\n",
    "# Close the connection\n",
    "# db.close()\n"
   ]
  },
  {
   "cell_type": "markdown",
   "metadata": {},
   "source": [
    "# insert sql"
   ]
  },
  {
   "cell_type": "code",
   "execution_count": 15,
   "metadata": {},
   "outputs": [
    {
     "name": "stdout",
     "output_type": "stream",
     "text": [
      "Record inserted successfully!\n"
     ]
    }
   ],
   "source": [
    "insert_query = \"INSERT INTO pg (PG_NAME, PG_ADDRESS) VALUES (%s, %s)\"\n",
    "data = (\"Sunshine PG\", \"123 Elm Street\")\n",
    "\n",
    "try:\n",
    "    cursor = db.cursor()\n",
    "    cursor.execute(insert_query, data)\n",
    "    db.commit()\n",
    "    print(\"Record inserted successfully!\")\n",
    "except MySQLdb.Error as e:\n",
    "    print(f\"Error: {e}\")\n"
   ]
  },
  {
   "cell_type": "markdown",
   "metadata": {},
   "source": [
    "# Select SQL"
   ]
  },
  {
   "cell_type": "code",
   "execution_count": 16,
   "metadata": {},
   "outputs": [
    {
     "name": "stdout",
     "output_type": "stream",
     "text": [
      "(1, 'Comfort Stay PG', '123 Main Street')\n",
      "(2, 'Elite Living PG', '456 High Avenue')\n",
      "(3, 'Green Nest PG', '789 Garden Road')\n",
      "(4, 'Blue Ridge PG', '101 Ocean Drive')\n",
      "(5, 'Urban Heights PG', '202 Downtown Lane')\n",
      "(6, 'Harmony PG', '303 Sunshine Avenue')\n",
      "(7, 'Serenity PG', '404 Peace Street')\n",
      "(8, 'Metro Life PG', '505 Metro Boulevard')\n",
      "(9, 'River View PG', '606 Riverside Park')\n",
      "(10, 'Golden Nest PG', '707 Gold Street')\n",
      "(11, 'Slvr PG', 'Tulasi Theater Road')\n",
      "(12, 'Sunshine PG', '123 Elm Street')\n",
      "(13, 'Sunshine PG', '123 Elm Street')\n",
      "(14, 'Sunshine PG', '123 Elm Street')\n"
     ]
    }
   ],
   "source": [
    "try:\n",
    "    cursor = db.cursor()\n",
    "    cursor.execute(\"SELECT * FROM pg\")\n",
    "    results = cursor.fetchall()\n",
    "    for row in results:\n",
    "        print(row)\n",
    "except MySQLdb.Error as e:\n",
    "    print(f\"Error: {e}\")\n",
    "\n"
   ]
  },
  {
   "cell_type": "code",
   "execution_count": 17,
   "metadata": {},
   "outputs": [],
   "source": [
    "class Conn:\n",
    "    def __init__(self):\n",
    "        self.db = MySQLdb.connect(\n",
    "        host=\"localhost\",\n",
    "        user=\"root\",\n",
    "        passwd=\"root\",\n",
    "        db=\"pg_management\"\n",
    "        )\n",
    "\n",
    "\n",
    "            \n"
   ]
  },
  {
   "cell_type": "code",
   "execution_count": 18,
   "metadata": {},
   "outputs": [],
   "source": [
    "conn = Conn()\n",
    "cursor = conn.db.cursor()"
   ]
  },
  {
   "cell_type": "code",
   "execution_count": 19,
   "metadata": {},
   "outputs": [
    {
     "data": {
      "text/plain": [
       "<MySQLdb.cursors.Cursor at 0x22b8b971c70>"
      ]
     },
     "execution_count": 19,
     "metadata": {},
     "output_type": "execute_result"
    }
   ],
   "source": [
    "cursor"
   ]
  },
  {
   "cell_type": "code",
   "execution_count": 30,
   "metadata": {},
   "outputs": [],
   "source": [
    "cursor.execute(\"SELECT * FROM pg\")\n",
    "results = cursor.fetchall()"
   ]
  },
  {
   "cell_type": "code",
   "execution_count": 31,
   "metadata": {},
   "outputs": [
    {
     "data": {
      "text/plain": [
       "((1, 'Comfort Stay PG', '123 Main Street'),\n",
       " (2, 'Elite Living PG', '456 High Avenue'),\n",
       " (3, 'Green Nest PG', '789 Garden Road'),\n",
       " (4, 'Blue Ridge PG', '101 Ocean Drive'),\n",
       " (5, 'Urban Heights PG', '202 Downtown Lane'),\n",
       " (6, 'Harmony PG', '303 Sunshine Avenue'),\n",
       " (7, 'Serenity PG', '404 Peace Street'),\n",
       " (8, 'Metro Life PG', '505 Metro Boulevard'),\n",
       " (9, 'River View PG', '606 Riverside Park'),\n",
       " (10, 'Golden Nest PG', '707 Gold Street'),\n",
       " (11, 'Slvr PG', 'Tulasi Theater Road'),\n",
       " (12, 'Sunshine PG', '123 Elm Street'),\n",
       " (13, 'Sunshine PG', '123 Elm Street'),\n",
       " (14, 'Sunshine PG', '123 Elm Street'))"
      ]
     },
     "execution_count": 31,
     "metadata": {},
     "output_type": "execute_result"
    }
   ],
   "source": [
    "results"
   ]
  },
  {
   "cell_type": "code",
   "execution_count": null,
   "metadata": {},
   "outputs": [],
   "source": []
  },
  {
   "cell_type": "markdown",
   "metadata": {},
   "source": [
    "## Update"
   ]
  },
  {
   "cell_type": "code",
   "execution_count": null,
   "metadata": {},
   "outputs": [],
   "source": []
  }
 ],
 "metadata": {
  "kernelspec": {
   "display_name": ".venv",
   "language": "python",
   "name": "python3"
  },
  "language_info": {
   "codemirror_mode": {
    "name": "ipython",
    "version": 3
   },
   "file_extension": ".py",
   "mimetype": "text/x-python",
   "name": "python",
   "nbconvert_exporter": "python",
   "pygments_lexer": "ipython3",
   "version": "3.13.1"
  }
 },
 "nbformat": 4,
 "nbformat_minor": 2
}
