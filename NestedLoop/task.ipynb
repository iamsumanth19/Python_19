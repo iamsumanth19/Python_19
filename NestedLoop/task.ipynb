{
 "cells": [
  {
   "cell_type": "code",
   "execution_count": null,
   "metadata": {},
   "outputs": [],
   "source": [
    "# Print The pangram numbers in a given range\n",
    "LL=int(input('lower limit:'))\n",
    "UL=int(input('upper limit:'))\n",
    "for n in range(LL,UL+1):\n",
    "    S=set(str(n))\n",
    "    if len(S)==10:\n",
    "        print(n)\n",
    "\n"
   ]
  },
  {
   "cell_type": "code",
   "execution_count": null,
   "metadata": {},
   "outputs": [],
   "source": [
    "# Print The  every second pangram numbers in a given range\n",
    "LL=int(input('lower limit:'))\n",
    "UL=int(input('upper limit:'))\n",
    "c=0\n",
    "for n in range(LL,UL+1):\n",
    "    S=set(str(n))\n",
    "    if len(S)==10:\n",
    "        c+=1\n",
    "        if c%2==0:\n",
    "            print(n)"
   ]
  },
  {
   "cell_type": "code",
   "execution_count": null,
   "metadata": {},
   "outputs": [],
   "source": [
    "# Print The  first ten pangram numbers.\n",
    "n=1234567890\n",
    "c=0\n",
    "while c<10:\n",
    "    S=set(str(n))\n",
    "    if len(S)==10:\n",
    "        c+=1\n",
    "        print(n)\n",
    "    n+=1"
   ]
  },
  {
   "cell_type": "code",
   "execution_count": null,
   "metadata": {},
   "outputs": [],
   "source": [
    "# Print tenth pangram numbers.\n",
    "n=1234567890\n",
    "c=0\n",
    "while c<10:\n",
    "    S=set(str(n))\n",
    "    if len(S)==10:\n",
    "        c+=1\n",
    "        if c==10:\n",
    "           print(n)\n",
    "    n+=1"
   ]
  },
  {
   "cell_type": "code",
   "execution_count": null,
   "metadata": {},
   "outputs": [],
   "source": [
    "# Print 5th to 20th  pangram numbers.\n",
    "n=1234567890\n",
    "c=0\n",
    "while c<20:\n",
    "    S=set(str(n))\n",
    "    if len(S)==10:\n",
    "        c+=1\n",
    "        if c>5:\n",
    "           print(n)\n",
    "    n+=1"
   ]
  },
  {
   "cell_type": "code",
   "execution_count": null,
   "metadata": {},
   "outputs": [],
   "source": [
    "# print the paindrome numbers in given range\n",
    "LL=int(input('lower limit:'))\n",
    "UL=int(input('upper limit:'))\n",
    "for n in range(LL,UL+1):\n",
    "    rev=0\n",
    "    d=n\n",
    "    while d>0:\n",
    "        r=d%10\n",
    "        d=d//10\n",
    "        rev=rev*10+r\n",
    "    if n==rev:\n",
    "        print(n)\n",
    "\n",
    "    \n"
   ]
  },
  {
   "cell_type": "code",
   "execution_count": null,
   "metadata": {},
   "outputs": [],
   "source": [
    "# print the every second paindrome numbers in given range\n",
    "LL=int(input('lower limit:'))\n",
    "UL=int(input('upper limit:'))\n",
    "c=0\n",
    "for n in range(LL,UL+1):\n",
    "    rev=0\n",
    "    d=n\n",
    "    while d>0:\n",
    "        r=d%10\n",
    "        d=d//10\n",
    "        rev=rev*10+r\n",
    "    if n==rev:\n",
    "        c+=1\n",
    "        if c%2==0:\n",
    "            print(n)"
   ]
  },
  {
   "cell_type": "code",
   "execution_count": null,
   "metadata": {},
   "outputs": [],
   "source": [
    "# print the first 10 paindrome numbers\n",
    "\n",
    "c=0\n",
    "n=1\n",
    "while c<10:\n",
    "    rev=0\n",
    "    d=n\n",
    "    while d>0:\n",
    "        r=d%10\n",
    "        d=d//10\n",
    "        rev=rev*10+r\n",
    "    if n==rev:\n",
    "        c+=1\n",
    "        print(n)\n",
    "    n+=1"
   ]
  },
  {
   "cell_type": "code",
   "execution_count": null,
   "metadata": {},
   "outputs": [],
   "source": [
    "# print the 10th paindrome numbers\n",
    "\n",
    "c=0\n",
    "n=1\n",
    "while c<10:\n",
    "    rev=0\n",
    "    d=n\n",
    "    while d>0:\n",
    "        r=d%10\n",
    "        d=d//10\n",
    "        rev=rev*10+r\n",
    "    if n==rev:\n",
    "        c+=1\n",
    "        if c==10:\n",
    "         print(n)\n",
    "    n+=1"
   ]
  },
  {
   "cell_type": "code",
   "execution_count": null,
   "metadata": {},
   "outputs": [],
   "source": [
    "# print the 5th and 20th paindrome numbers\n",
    "\n",
    "c=0\n",
    "n=1\n",
    "while c<20:\n",
    "    rev=0\n",
    "    d=n\n",
    "    while d>0:\n",
    "        r=d%10\n",
    "        d=d//10\n",
    "        rev=rev*10+r\n",
    "    if n==rev:\n",
    "        c+=1\n",
    "        if c>5:\n",
    "          print(n)\n",
    "    n+=1"
   ]
  },
  {
   "cell_type": "code",
   "execution_count": null,
   "metadata": {},
   "outputs": [],
   "source": [
    "# print the harshad numbers in a given range\n",
    "LL=int(input('lower limit:'))\n",
    "UL=int(input('upper limit:'))\n",
    "for n in range(LL,UL+1):\n",
    "    d=n\n",
    "    sum=0\n",
    "    while d>0:\n",
    "        r=d%10\n",
    "        d//=10\n",
    "        sum+=r\n",
    "    if n%sum==0:\n",
    "        print(n)"
   ]
  },
  {
   "cell_type": "code",
   "execution_count": null,
   "metadata": {},
   "outputs": [],
   "source": [
    "# print the  every second harshad numbers in a given range\n",
    "LL=int(input('lower limit:'))\n",
    "UL=int(input('upper limit:'))\n",
    "c=0\n",
    "for n in range(LL,UL+1):\n",
    "    d=n\n",
    "    sum=0\n",
    "    while d>0:\n",
    "        r=d%10\n",
    "        d//=10\n",
    "        sum+=r\n",
    "    if n%sum==0:\n",
    "        c+=1\n",
    "        if c%2==0:\n",
    "            print(n)\n"
   ]
  },
  {
   "cell_type": "code",
   "execution_count": null,
   "metadata": {},
   "outputs": [],
   "source": [
    "# print the  first ten harshad numbers\n",
    "n=1\n",
    "c=0\n",
    "while c<10:\n",
    "    d=n\n",
    "    sum=0\n",
    "    while d>0:\n",
    "        r=d%10\n",
    "        d//=10\n",
    "        sum+=r\n",
    "    if n%sum==0:\n",
    "        c+=1\n",
    "        print(n)\n",
    "    n+=1\n"
   ]
  },
  {
   "cell_type": "code",
   "execution_count": 5,
   "metadata": {},
   "outputs": [],
   "source": [
    "# print disarium numbers between given range\n",
    "LL=int(input('lower limit:'))\n",
    "UL=int(input('upper limit:'))\n",
    "for n in range(LL,UL+1):\n",
    "    d=n\n",
    "    l=len(str(n))\n",
    "    sum=0\n",
    "    while d>0:\n",
    "        r=d%10\n",
    "        d//=10\n",
    "        sum+=r**l\n",
    "        l-=1\n",
    "    if sum==n:\n",
    "        print(n)\n",
    "        "
   ]
  },
  {
   "cell_type": "code",
   "execution_count": null,
   "metadata": {},
   "outputs": [],
   "source": [
    "# print  first ten disarium numbers \n",
    "\n",
    "n=1\n",
    "count=0\n",
    "while count<10:\n",
    "    d=n\n",
    "    l=len(str(n))\n",
    "    sum=0\n",
    "    while d>0:\n",
    "        r=d%10\n",
    "        d//=10\n",
    "        sum+=r**l\n",
    "        l-=1\n",
    "    if sum==n:\n",
    "        count+=1\n",
    "        print(n)\n",
    "    n+=1\n",
    "        "
   ]
  },
  {
   "cell_type": "code",
   "execution_count": null,
   "metadata": {},
   "outputs": [],
   "source": []
  }
 ],
 "metadata": {
  "kernelspec": {
   "display_name": "Python 3",
   "language": "python",
   "name": "python3"
  },
  "language_info": {
   "codemirror_mode": {
    "name": "ipython",
    "version": 3
   },
   "file_extension": ".py",
   "mimetype": "text/x-python",
   "name": "python",
   "nbconvert_exporter": "python",
   "pygments_lexer": "ipython3",
   "version": "3.13.0"
  }
 },
 "nbformat": 4,
 "nbformat_minor": 2
}
