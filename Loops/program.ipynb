{
 "cells": [
  {
   "cell_type": "code",
   "execution_count": null,
   "metadata": {},
   "outputs": [],
   "source": [
    "# Calculate the sum of numbers from 1 to 50.\n",
    "sum=0\n",
    "for i in range(1,51):\n",
    "    sum+=i\n",
    "print(sum)"
   ]
  },
  {
   "cell_type": "code",
   "execution_count": null,
   "metadata": {},
   "outputs": [],
   "source": [
    "# Print the multiplication table for a given number.\n",
    "num=int(input('Enter a number:'))\n",
    "for i in range(1,11):\n",
    "    c=num*i\n",
    "    print(f\"{num}*{i}={c}\")"
   ]
  },
  {
   "cell_type": "code",
   "execution_count": null,
   "metadata": {},
   "outputs": [],
   "source": [
    "# Count the number of vowels in a string\n",
    "string_var=input('Enter a string:')\n",
    "count=0\n",
    "for i in string_var:\n",
    "    if i in 'aeiouAEIOU':\n",
    "        count+=1\n",
    "print(count)"
   ]
  },
  {
   "cell_type": "code",
   "execution_count": null,
   "metadata": {},
   "outputs": [],
   "source": [
    "# Find the factorial of a number\n",
    "num=int(input('Enter a num:'))\n",
    "fact=1\n",
    "for i in range(num,0,-1):\n",
    "    fact*=i\n",
    "print(fact)"
   ]
  },
  {
   "cell_type": "code",
   "execution_count": null,
   "metadata": {},
   "outputs": [],
   "source": [
    "#  Find the largest digit in a number.\n",
    "num=input('Enter a number:')\n",
    "s=num\n",
    "if len(s)==1:\n",
    "    print(f'{num} is a largest digit')\n",
    "else:\n",
    "    l=[]\n",
    "    for i in s:\n",
    "        l.append(int(i))\n",
    "    larg_num=l[0]\n",
    "    for j in l:\n",
    "        if j>larg_num:\n",
    "            larg_num=j\n",
    "    print(f'{j} is a largest digit')"
   ]
  },
  {
   "cell_type": "code",
   "execution_count": null,
   "metadata": {},
   "outputs": [],
   "source": []
  },
  {
   "cell_type": "code",
   "execution_count": null,
   "metadata": {},
   "outputs": [],
   "source": [
    " "
   ]
  },
  {
   "cell_type": "code",
   "execution_count": null,
   "metadata": {},
   "outputs": [],
   "source": []
  }
 ],
 "metadata": {
  "kernelspec": {
   "display_name": "Python 3",
   "language": "python",
   "name": "python3"
  },
  "language_info": {
   "codemirror_mode": {
    "name": "ipython",
    "version": 3
   },
   "file_extension": ".py",
   "mimetype": "text/x-python",
   "name": "python",
   "nbconvert_exporter": "python",
   "pygments_lexer": "ipython3",
   "version": "3.13.0"
  }
 },
 "nbformat": 4,
 "nbformat_minor": 2
}
