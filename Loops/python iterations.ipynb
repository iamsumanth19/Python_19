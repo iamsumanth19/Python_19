{
 "cells": [
  {
   "cell_type": "code",
   "execution_count": null,
   "metadata": {},
   "outputs": [],
   "source": [
    "# wap to print how many elements are present in give string\n",
    "s=input()\n",
    "count=0\n",
    "for i in s:\n",
    "    count+=1\n",
    "print(s)\n",
    "\n",
    "# s='hai'\n",
    "# 1--> i will assign to 'h' and add +1  to count\n",
    "# 2--> i will assign to 'a' and add +1  to count\n",
    "# 2--> i will assign to 'i' and add +1  to count"
   ]
  },
  {
   "cell_type": "code",
   "execution_count": null,
   "metadata": {},
   "outputs": [],
   "source": [
    "# wap to a given substring is present in specified string\n",
    "s=input()\n",
    "sub=input()\n",
    "count=0\n",
    "for i in s:\n",
    "    if i==sub:\n",
    "        count+=1\n",
    "print(count)\n",
    "\n",
    "# s='haai'\n",
    "# sub='a'\n",
    "# 1--> i will assign to 'h' and checks it is equal to 'a' or not if it is equal it will add +1 to count\n",
    "# 2--> i will assign to 'a' and checks it is equal to 'a' or not if it is equal it will add +1 to count\n",
    "# 3--> i will assign to 'i' and checks it is equal to 'a' or not if it is equal it will add +1 to count"
   ]
  },
  {
   "cell_type": "code",
   "execution_count": null,
   "metadata": {},
   "outputs": [],
   "source": [
    "# print how many digits are present in given string\n",
    "s=input()\n",
    "count=0\n",
    "for i in s:\n",
    "    if i.isdigit():\n",
    "        count+=1\n",
    "print(count)\n",
    "\n",
    "# s='ha12'\n",
    "# 1--> i will assign to 'h' and checks is it digit or not if it is a digit the count will update with +1\n",
    "# 2--> i will assign to 'a' and checks is it digit or not if it is a digit the count will update with +1\n",
    "# 3--> i will assign to '1' and checks is it digit or not if it is a digit the count will update with +1\n",
    "# 4--> i will assign to '2' and checks is it digit or not if it is a digit the count will update with +1"
   ]
  },
  {
   "cell_type": "code",
   "execution_count": null,
   "metadata": {},
   "outputs": [],
   "source": [
    "# check how many odd digits present in iven string \n",
    "s=input()\n",
    "d='13579'\n",
    "count=0\n",
    "for i in s:\n",
    "    if i in d:\n",
    "        count+=1\n",
    "print(count)\n",
    "\n",
    "# s='h3a'\n",
    "# 1-->i will assign to 'h' and checks i is present in d or not ,if it is present count will update with +1\n",
    "# 1-->i will assign to '3' and checks i is present in d or not ,if it is present count will update with +1\n",
    "# 1-->i will assign to 'a' and checks i is present in d or not ,if it is present count will update with +1"
   ]
  },
  {
   "cell_type": "code",
   "execution_count": null,
   "metadata": {},
   "outputs": [],
   "source": [
    "# print how many vowels present in given string\n",
    "s=inpu()\n",
    "v='aeiouAEIOU'\n",
    "count=0\n",
    "for i in s:\n",
    "    if i in v:\n",
    "        count+=1\n",
    "print(count)\n",
    "\n",
    "# s='arun'\n",
    "# 1-->i will assign to 'a' and checks i is present in v or not ,if it is present count will update with +1\n",
    "# 2-->i will assign to 'r' and checks i is present in v or not ,if it is present count will update with +1\n",
    "# 3-->i will assign to 'u' and checks i is present in v or not ,if it is present count will update with +1\n",
    "# 4-->i will assign to 'n' and checks i is present in v or not ,if it is present count will update with +1"
   ]
  },
  {
   "cell_type": "code",
   "execution_count": null,
   "metadata": {},
   "outputs": [],
   "source": [
    "# sum of numbers present in list\n",
    "l=eval(input())\n",
    "sum=0\n",
    "for i in l:\n",
    "    if type(i)==int:\n",
    "        sum+=i\n",
    "print(sum)\n",
    "\n",
    "# l=[11,'hai',22]\n",
    "# 1--> i will assign to the 11 and checks its datatype is int or not ,if it is int the i will added to the sum\n",
    "# 2--> i will assign to the 'hai' and checks its datatype is int or not ,if it is int the i will added to the sum\n",
    "# 3--> i will assign to the 22 and checks its datatype is int or not ,if it is int the i will added to the sum"
   ]
  },
  {
   "cell_type": "code",
   "execution_count": null,
   "metadata": {},
   "outputs": [],
   "source": [
    "# finding the max number in given number\n",
    "l=eval(input())\n",
    "max=l[0]\n",
    "for i in l:\n",
    "    if i>max:\n",
    "        max=i\n",
    "print(max)\n",
    "\n",
    "# l=[1,22,3]\n",
    "# 1--> i will assign to  1 and checks it is greater than max or not ,if it is true max value will replace with i\n",
    "# 2--> i will assign to  22 and checks it is greater than max or not ,if it is true max value will replace with i\n",
    "# 3--> i will assign to  3 and checks it is greater than max or not ,if it is true max value will replace with i"
   ]
  },
  {
   "cell_type": "code",
   "execution_count": null,
   "metadata": {},
   "outputs": [],
   "source": [
    "# wap to print even numbers between 1 to 20\n",
    "for i in range(1,21):\n",
    "    if i%2==0:\n",
    "        print(i)\n",
    "    \n",
    "# 1--> i will assign to the 1 and check the if condition ,if it is satisfies then it will print \n",
    "# 2-->i will assign to the 2 and check the if condition ,if it is satisfies then it will print \n",
    "# like it happen upto 20 iterations"
   ]
  },
  {
   "cell_type": "code",
   "execution_count": null,
   "metadata": {},
   "outputs": [],
   "source": [
    "# sum of first n numbers\n",
    "n=int(input())\n",
    "sum=0\n",
    "for i in range(1,n+1):\n",
    "    sum+=i\n",
    "print(sum)\n",
    "\n",
    "n=10\n",
    "# 1--> i will assign to the 1 and adding it to sum\n",
    "# 2--> i will assign to the 2 and adding it to sum\n",
    "# 3--> i will assign to the 3 and adding it to sum\n",
    ".\n",
    ".\n",
    "#10--> i will assign to the 10 and adding it to sum"
   ]
  },
  {
   "cell_type": "code",
   "execution_count": null,
   "metadata": {},
   "outputs": [],
   "source": [
    "# check given number is perfect number or not\n",
    "n=int(input())\n",
    "sum=0\n",
    "for i in range(1,n//2+1):\n",
    "    if n%i==0:\n",
    "        sum+=i\n",
    "if sum==n:\n",
    "    print('it is a perfect number')\n",
    "else:\n",
    "   print('it is not a  perfect number')\n",
    "\n",
    "# i will assign to the 1 and checks the if condition ,if it is satisfies it will added to the sum\n",
    "# i will assign to the 2 and checks the if condition ,if it is satisfies it will added to the sum\n",
    "# it will happens upto  n//2+1 iterations....."
   ]
  },
  {
   "cell_type": "code",
   "execution_count": null,
   "metadata": {},
   "outputs": [],
   "source": [
    "# replace the elements which are present in even index positions of list with o\n",
    "L=eval(input())\n",
    "for i in range(0,len(L),2):\n",
    "    L[i]=o\n",
    "print(L)\n",
    "    \n",
    "# L=[11,22,'hai']\n",
    "#i will assign to o and replace oth index element with o\n",
    "#i will assign to 2 and replace 2nd index element with o\n",
    "\n",
    "\n"
   ]
  },
  {
   "cell_type": "code",
   "execution_count": null,
   "metadata": {},
   "outputs": [],
   "source": [
    "# replace the elements which are present in even index position of strig\n",
    "s=input()\n",
    "new=''\n",
    "for i in range(len(s)):\n",
    "    if i%2==0:\n",
    "        new+='0'\n",
    "    else:\n",
    "        new+=s[i]\n",
    "print(new)\n",
    "\n",
    "# s='hai'\n",
    "# 1--> i will assign to 0 and it checks if condition if its satisfies new string add with 0 else it will add with oth index element\n",
    "# 2--> i will assign to 1 and it checks if condition if its satisfies new string add with 0 else it will add with 1st index element\n",
    "# it will happen until the length of string"
   ]
  },
  {
   "cell_type": "code",
   "execution_count": null,
   "metadata": {},
   "outputs": [],
   "source": [
    "# print index number of even digits in given string\n",
    "s=input()\n",
    "d='02468'\n",
    "for i in range(len(s)):\n",
    "    if s[i] in d:\n",
    "        print(i) \n",
    "# s='ha12'\n",
    "# 1--> i will assign to 0 and it checks if condition if it is satisfies it will print i value\n",
    "# 2--> i will assign to 0 and it checks if condition if it is satisfies it will print i value\n",
    "# it will  happens until the length of s\n",
    "\n",
    "\n"
   ]
  },
  {
   "cell_type": "code",
   "execution_count": null,
   "metadata": {},
   "outputs": [],
   "source": [
    "# find sum of even digits present in even index positions of a string\n",
    "s=input()\n",
    "d='02468'\n",
    "sum=0\n",
    "for i in range(0,len(s),2):\n",
    "    if s[i] in d:\n",
    "        sum+=int(s[i])\n",
    "print(sum)\n",
    "\n",
    "# s='h124'\n",
    "# i will assign to 0 and checks if condition if it is satisfies 0th index value will added to sum \n",
    "# i will assign to 2 and checks if condition if it is satisfies 2th index value will added to sum \n",
    "# like this it will iterate until the lenth of string with updation 2"
   ]
  }
 ],
 "metadata": {
  "kernelspec": {
   "display_name": "Python 3",
   "language": "python",
   "name": "python3"
  },
  "language_info": {
   "codemirror_mode": {
    "name": "ipython",
    "version": 3
   },
   "file_extension": ".py",
   "mimetype": "text/x-python",
   "name": "python",
   "nbconvert_exporter": "python",
   "pygments_lexer": "ipython3",
   "version": "3.13.0"
  }
 },
 "nbformat": 4,
 "nbformat_minor": 2
}
