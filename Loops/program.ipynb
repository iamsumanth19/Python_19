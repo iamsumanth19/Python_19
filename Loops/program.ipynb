{
 "cells": [
  {
   "cell_type": "code",
   "execution_count": null,
   "metadata": {},
   "outputs": [],
   "source": [
    "# Calculate the sum of numbers from 1 to 50.\n",
    "sum=0\n",
    "for i in range(1,51):\n",
    "    sum+=i\n",
    "print(sum)"
   ]
  },
  {
   "cell_type": "code",
   "execution_count": null,
   "metadata": {},
   "outputs": [],
   "source": [
    "# Print the multiplication table for a given number.\n",
    "num=int(input('Enter a number:'))\n",
    "for i in range(1,11):\n",
    "    c=num*i\n",
    "    print(f\"{num}*{i}={c}\")"
   ]
  },
  {
   "cell_type": "code",
   "execution_count": null,
   "metadata": {},
   "outputs": [],
   "source": [
    "# Count the number of vowels in a string\n",
    "string_var=input('Enter a string:')\n",
    "count=0\n",
    "for i in string_var:\n",
    "    if i in 'aeiouAEIOU':\n",
    "        count+=1\n",
    "print(count)"
   ]
  },
  {
   "cell_type": "code",
   "execution_count": null,
   "metadata": {},
   "outputs": [],
   "source": [
    "c=0\n",
    "n=2\n",
    "while True:\n",
    "    if n>1:\n",
    "        for i in range(2,n//2+1):\n",
    "            if n%i==0:\n",
    "                break\n",
    "        else:\n",
    "            print(n)\n",
    "            c+=1\n",
    "    n+=1\n",
    "    if c==20:\n",
    "         break"
   ]
  },
  {
   "cell_type": "code",
   "execution_count": null,
   "metadata": {},
   "outputs": [],
   "source": [
    "# count Method\n",
    "s=input('Enter a String')\n",
    "sub=input('Enter subString')\n",
    "a=len(sub)\n",
    "count=0\n",
    "for i in range(len(s)):\n",
    "    if s[i:i+a:1]==sub:\n",
    "        count+=1\n",
    "print(count)\n"
   ]
  },
  {
   "cell_type": "code",
   "execution_count": null,
   "metadata": {},
   "outputs": [],
   "source": [
    "# Find the factorial of a number\n",
    "num=int(input('Enter a num:'))\n",
    "fact=1\n",
    "for i in range(num,0,-1):\n",
    "    fact*=i\n",
    "print(fact)"
   ]
  },
  {
   "cell_type": "code",
   "execution_count": null,
   "metadata": {},
   "outputs": [],
   "source": [
    "#  Find the largest digit in a number.\n",
    "num=int(input('Enter a number:'))\n",
    "s=str(num)\n",
    "lrg_dig=s[0]\n",
    "for i in s:\n",
    "    if i>lrg_dig:\n",
    "        lrg_dig=i\n",
    "print(int(lrg_dig) ,'is a large digit')\n",
    "        "
   ]
  },
  {
   "cell_type": "code",
   "execution_count": null,
   "metadata": {},
   "outputs": [],
   "source": [
    "# Find the sum of all elements in a list\n",
    "l=eval(input('Enter a list:'))\n",
    "sum=0\n",
    "for i in l:\n",
    "    sum+=i\n",
    "print(f\"sum of elements in list is {sum}\")"
   ]
  },
  {
   "cell_type": "code",
   "execution_count": null,
   "metadata": {},
   "outputs": [],
   "source": [
    "#  Count the number of occurrences of a specific element in a list\n",
    "L=eval(input(\"Enter a list:\"))\n",
    "for i in L:\n",
    "    print(f'{i} is present {L.count(i)} times in List')"
   ]
  },
  {
   "cell_type": "code",
   "execution_count": null,
   "metadata": {},
   "outputs": [],
   "source": [
    "# Sort a list in ascending order\n",
    "L=eval(input(\"Enter a list:\"))\n",
    "S=[]\n",
    "for i in L:\n",
    "    S.insert(0,i)\n",
    "print(f'Reverse List is {S}')"
   ]
  },
  {
   "cell_type": "code",
   "execution_count": null,
   "metadata": {},
   "outputs": [],
   "source": [
    "\n",
    "#  Remove duplicates from a list.\n",
    "L=eval(input(\"Enter a list:\"))\n",
    "for i in L:\n",
    "    if L.count(i)>1:\n",
    "        L.remove(i)\n",
    "print(L)\n"
   ]
  },
  {
   "cell_type": "code",
   "execution_count": null,
   "metadata": {},
   "outputs": [],
   "source": [
    "# how many digits are present in the string\n",
    "\n",
    "s=input('Enter a  string')\n",
    "def digitsCount(s):\n",
    "    count=0\n",
    "    for i in s:\n",
    "        if i.isdigit():\n",
    "            count+=1\n",
    "    return count\n",
    "\n",
    "digitsCount(s)"
   ]
  },
  {
   "cell_type": "code",
   "execution_count": 15,
   "metadata": {},
   "outputs": [
    {
     "data": {
      "text/plain": [
       "7"
      ]
     },
     "execution_count": 15,
     "metadata": {},
     "output_type": "execute_result"
    }
   ],
   "source": [
    "# no of consonants\n",
    "def consonantsCount(s):\n",
    "    count=0\n",
    "    for i in s:\n",
    "        vowels='aeiou'\n",
    "        if i.isalpha():\n",
    "            if i.lower() not in vowels:\n",
    "                count+=1\n",
    "    return count\n",
    "s=input('enter a string')\n",
    "consonantsCount(s)"
   ]
  }
 ],
 "metadata": {
  "kernelspec": {
   "display_name": "Python 3",
   "language": "python",
   "name": "python3"
  },
  "language_info": {
   "codemirror_mode": {
    "name": "ipython",
    "version": 3
   },
   "file_extension": ".py",
   "mimetype": "text/x-python",
   "name": "python",
   "nbconvert_exporter": "python",
   "pygments_lexer": "ipython3",
   "version": "3.13.1"
  }
 },
 "nbformat": 4,
 "nbformat_minor": 2
}
