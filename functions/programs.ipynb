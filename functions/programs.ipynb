{
 "cells": [
  {
   "cell_type": "markdown",
   "metadata": {},
   "source": [
    "## method implementations\n"
   ]
  },
  {
   "cell_type": "code",
   "execution_count": null,
   "metadata": {},
   "outputs": [
    {
     "data": {
      "text/plain": [
       "['sumanth', 'is', 'king']"
      ]
     },
     "execution_count": 9,
     "metadata": {},
     "output_type": "execute_result"
    }
   ],
   "source": [
    "# split method\n",
    "# def counting(s,d):\n",
    "#      for i in s:\n",
    "#         delimator_count=0\n",
    "#         if i==d:\n",
    "#             delimator_count+=1\n",
    "#         return delimator_count\n",
    "def split(string,count,delimator=' '):\n",
    "    L=[]\n",
    "    word=''\n",
    "    for i in string:\n",
    "        if i!=delimator:\n",
    "            word+=i\n",
    "        else:\n",
    "            L.append(word)\n",
    "            word=''\n",
    "\n",
    "        if len(L)==count:\n",
    "            break\n",
    "    L.append(word)\n",
    "    return L\n",
    "\n",
    "split('sumanth is king',5)\n"
   ]
  },
  {
   "cell_type": "code",
   "execution_count": 11,
   "metadata": {},
   "outputs": [
    {
     "data": {
      "text/plain": [
       "1"
      ]
     },
     "execution_count": 11,
     "metadata": {},
     "output_type": "execute_result"
    }
   ],
   "source": [
    "#count method\n",
    "\n",
    "def count(string,sub,ei,si=0):\n",
    "    count=0\n",
    "    for i in range(si+1,ei+2):\n",
    "        if string[i]==sub:\n",
    "            count+=1\n",
    "    return count\n",
    "\n",
    "count('sumanthasumanth','s',11,2)"
   ]
  },
  {
   "cell_type": "code",
   "execution_count": null,
   "metadata": {},
   "outputs": [],
   "source": []
  }
 ],
 "metadata": {
  "kernelspec": {
   "display_name": "Python 3",
   "language": "python",
   "name": "python3"
  },
  "language_info": {
   "codemirror_mode": {
    "name": "ipython",
    "version": 3
   },
   "file_extension": ".py",
   "mimetype": "text/x-python",
   "name": "python",
   "nbconvert_exporter": "python",
   "pygments_lexer": "ipython3",
   "version": "3.13.1"
  }
 },
 "nbformat": 4,
 "nbformat_minor": 2
}
