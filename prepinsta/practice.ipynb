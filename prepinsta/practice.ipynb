{
 "cells": [
  {
   "cell_type": "markdown",
   "metadata": {},
   "source": [
    "## python programs"
   ]
  },
  {
   "cell_type": "code",
   "execution_count": 4,
   "metadata": {},
   "outputs": [
    {
     "name": "stdout",
     "output_type": "stream",
     "text": [
      "55\n"
     ]
    }
   ],
   "source": [
    "# Sum of First N Natural numbers:\n",
    "\n",
    "n=int(input('Enter the value:'))\n",
    "sum=0\n",
    "for i in range(1,n+1):\n",
    "    sum+=i\n",
    "print(sum)\n"
   ]
  },
  {
   "cell_type": "code",
   "execution_count": 5,
   "metadata": {},
   "outputs": [
    {
     "name": "stdout",
     "output_type": "stream",
     "text": [
      "20 is a greatest value!!\n"
     ]
    }
   ],
   "source": [
    "# Greatest of two numbers: \n",
    "\n",
    "num1=int(input('enter the first value:'))\n",
    "num2=int(input('enter the second value:'))\n",
    "\n",
    "if num1>num2:\n",
    "    print(f'{num1} is a greatest value!!')\n",
    "\n",
    "else:\n",
    "    print(f'{num2} is a greatest value!!')\n"
   ]
  },
  {
   "cell_type": "code",
   "execution_count": 6,
   "metadata": {},
   "outputs": [
    {
     "name": "stdout",
     "output_type": "stream",
     "text": [
      "21 is a largest number!! \n"
     ]
    }
   ],
   "source": [
    "# Greatest of the Three numbers\n",
    "num1=int(input('enter the first value:'))\n",
    "num2=int(input('enter the second value:'))\n",
    "num3=int(input('enter the third value:'))\n",
    "\n",
    "L=[num1,num2,num3]\n",
    "L.sort()\n",
    "\n",
    "print(f'{L[2]} is a largest number!! ')\n",
    "\n",
    "\n"
   ]
  },
  {
   "cell_type": "code",
   "execution_count": 8,
   "metadata": {},
   "outputs": [
    {
     "name": "stdout",
     "output_type": "stream",
     "text": [
      "2024 is a Leap Year!!\n"
     ]
    }
   ],
   "source": [
    "# Leap year or not\n",
    "\n",
    "year=int(input('Enter the Year!!'))\n",
    "\n",
    "if year>1:\n",
    "    if (year%4==0 and year%100!=0) or (year%400==0):\n",
    "        print(f'{year} is a Leap Year!!')\n",
    "    else:\n",
    "        print(f'{year} is not a Leap Year!!')\n",
    "else:\n",
    "        print(f'{year} is not a Leap Year!!')\n"
   ]
  },
  {
   "cell_type": "code",
   "execution_count": null,
   "metadata": {},
   "outputs": [
    {
     "data": {
      "text/plain": [
       "False"
      ]
     },
     "execution_count": 13,
     "metadata": {},
     "output_type": "execute_result"
    }
   ],
   "source": [
    "# Prime number\n",
    "def isPrime(n):\n",
    "    if n>1:\n",
    "        for i in range(2,n//2+1):\n",
    "            if n%i==0:\n",
    "                return False\n",
    "        else:\n",
    "            return True\n",
    "    else:\n",
    "         return False\n",
    "    \n",
    "isPrime(9)"
   ]
  },
  {
   "cell_type": "code",
   "execution_count": 34,
   "metadata": {},
   "outputs": [
    {
     "name": "stdout",
     "output_type": "stream",
     "text": [
      "11\n",
      "13\n",
      "17\n",
      "19\n"
     ]
    }
   ],
   "source": [
    "# Prime number within a given range\n",
    "\n",
    "lower_limit=int(input('Enter lower limit:'))\n",
    "upper_limit=int(input('Enter upper limit:'))\n",
    "    \n",
    "for n in range(lower_limit,upper_limit+1):\n",
    "    if isPrime(n)==True:\n",
    "        print(n)"
   ]
  },
  {
   "cell_type": "code",
   "execution_count": 25,
   "metadata": {},
   "outputs": [
    {
     "name": "stdout",
     "output_type": "stream",
     "text": [
      "21\n",
      "21\n"
     ]
    }
   ],
   "source": [
    "# Sum of digits of a number\n",
    "\n",
    "def sumOfDigits1(n):\n",
    "    dummy=n\n",
    "    sum=0\n",
    "    while dummy>0:\n",
    "        r=dummy%10\n",
    "        dummy//=10\n",
    "        sum+=r\n",
    "    return sum\n",
    "print(sumOfDigits1(19911))\n",
    "\n",
    "def sumOfDigits2(n):\n",
    "    num=str(n)\n",
    "    sum=0\n",
    "    for i in num:\n",
    "        sum+=int(i)\n",
    "    return sum\n",
    "print(sumOfDigits2(19911))\n",
    "\n"
   ]
  },
  {
   "cell_type": "code",
   "execution_count": 27,
   "metadata": {},
   "outputs": [
    {
     "name": "stdout",
     "output_type": "stream",
     "text": [
      "65421\n",
      "65421\n"
     ]
    }
   ],
   "source": [
    "# Reverse of a number \n",
    "\n",
    "def reverseNum1(n):\n",
    "    dummy=n\n",
    "    rev_num=0\n",
    "    while dummy>0:\n",
    "        r=dummy%10\n",
    "        dummy//=10\n",
    "        rev_num=rev_num*10+r\n",
    "    return rev_num\n",
    "print(reverseNum1(12456))\n",
    "\n",
    "def reverseNum2(n):\n",
    "    num=str(n)\n",
    "    rev_num=''\n",
    "    for i in num:\n",
    "        rev_num=i+rev_num\n",
    "    return str(rev_num)\n",
    "print(reverseNum2(12456))"
   ]
  },
  {
   "cell_type": "code",
   "execution_count": 28,
   "metadata": {},
   "outputs": [
    {
     "name": "stdout",
     "output_type": "stream",
     "text": [
      "True\n",
      "True\n"
     ]
    }
   ],
   "source": [
    "# Palindrome number\n",
    "\n",
    "def isPalindrome1(n):\n",
    "    dummy=n\n",
    "    rev_num=0\n",
    "    while dummy>0:\n",
    "        r=dummy%10\n",
    "        dummy//=10\n",
    "        rev_num=rev_num*10+r\n",
    "\n",
    "    if n==rev_num:\n",
    "        return True\n",
    "    else:\n",
    "        return False\n",
    "\n",
    "def isPalindrome2(n):\n",
    "    num=str(n)\n",
    "    rev_num=''\n",
    "    for i in num:\n",
    "        rev_num=i+rev_num\n",
    "\n",
    "    if num==rev_num:\n",
    "        return True\n",
    "    else:\n",
    "        return False\n",
    "    \n",
    "print(isPalindrome1(121))\n",
    "print(isPalindrome2(121))\n",
    "\n"
   ]
  },
  {
   "cell_type": "code",
   "execution_count": 33,
   "metadata": {},
   "outputs": [
    {
     "name": "stdout",
     "output_type": "stream",
     "text": [
      "True\n",
      "False\n"
     ]
    }
   ],
   "source": [
    "# Armstrong number\n",
    "\n",
    "# number that is equal to the sum of its own digits each raised to the power of the number of digits.\n",
    "\n",
    "def isAmstrong(n):\n",
    "    num=str(n)\n",
    "    sum=0\n",
    "    length=len(num)\n",
    "    for i in num:\n",
    "        sum+=int(i)**length\n",
    "    \n",
    "    if n==sum:\n",
    "        return True\n",
    "    else:\n",
    "        return False\n",
    "    \n",
    "print(isAmstrong(153))\n",
    "print(isAmstrong(154))"
   ]
  },
  {
   "cell_type": "code",
   "execution_count": 35,
   "metadata": {},
   "outputs": [
    {
     "name": "stdout",
     "output_type": "stream",
     "text": [
      "153\n"
     ]
    }
   ],
   "source": [
    "# Armstrong number in a given range\n",
    "\n",
    "lower_limit=int(input('Enter lower limit:'))\n",
    "upper_limit=int(input('Enter upper limit:'))\n",
    "\n",
    "for n in range(lower_limit,upper_limit+1):\n",
    "    if isAmstrong(n):\n",
    "        print(n)"
   ]
  },
  {
   "cell_type": "code",
   "execution_count": 37,
   "metadata": {},
   "outputs": [
    {
     "name": "stdout",
     "output_type": "stream",
     "text": [
      "[0, 1, 1, 2, 3, 5, 8, 13, 21, 34]\n"
     ]
    }
   ],
   "source": [
    "# Fibonacci Series upto nth term\n",
    "\n",
    "def fibonacciSeries(n):\n",
    "    series=[0,1]\n",
    "    for i in range(1,n-2+1):\n",
    "        series.append(series[len(series)-1]+series[len(series)-2])\n",
    "\n",
    "    return series\n",
    "\n",
    "print(fibonacciSeries(10))\n"
   ]
  },
  {
   "cell_type": "code",
   "execution_count": 39,
   "metadata": {},
   "outputs": [
    {
     "name": "stdout",
     "output_type": "stream",
     "text": [
      "34\n"
     ]
    }
   ],
   "source": [
    "# Find the Nth Term of the Fibonacci Series\n",
    "\n",
    "series=fibonacciSeries(10)\n",
    "print(series[9])"
   ]
  },
  {
   "cell_type": "code",
   "execution_count": 40,
   "metadata": {},
   "outputs": [
    {
     "name": "stdout",
     "output_type": "stream",
     "text": [
      "120\n"
     ]
    }
   ],
   "source": [
    "# Factorial of a number \n",
    "\n",
    "def factorial(n):\n",
    "    fact=1\n",
    "    for i in range(n,1,-1):\n",
    "        fact*=i\n",
    "    return fact\n",
    "print(factorial(5))\n"
   ]
  },
  {
   "cell_type": "code",
   "execution_count": 41,
   "metadata": {},
   "outputs": [
    {
     "data": {
      "text/plain": [
       "[1, 2, 3]"
      ]
     },
     "execution_count": 41,
     "metadata": {},
     "output_type": "execute_result"
    }
   ],
   "source": [
    "# Factor of a number\n",
    "\n",
    "def factors(n):\n",
    "    L=[]\n",
    "    for i in range(1,n//2+1):\n",
    "        if n%i==0:\n",
    "            L.append(i)\n",
    "\n",
    "    return L\n",
    "factors(6)"
   ]
  },
  {
   "cell_type": "code",
   "execution_count": 44,
   "metadata": {},
   "outputs": [
    {
     "data": {
      "text/plain": [
       "[2, 5]"
      ]
     },
     "execution_count": 44,
     "metadata": {},
     "output_type": "execute_result"
    }
   ],
   "source": [
    "# Finding Prime Factors of a number \n",
    "\n",
    "def primeFactors(n):\n",
    "    L=[]\n",
    "    for i in range(1,n//2+1):\n",
    "        if n%i==0:\n",
    "            if isPrime(i):\n",
    "                L.append(i)\n",
    "    return L\n",
    "\n",
    "primeFactors(100)"
   ]
  },
  {
   "cell_type": "code",
   "execution_count": 47,
   "metadata": {},
   "outputs": [
    {
     "name": "stdout",
     "output_type": "stream",
     "text": [
      "True\n"
     ]
    }
   ],
   "source": [
    "# Strong number\n",
    "# A strong Number is a number where the summ of the factorials of its digits equals to the number itself(145)\n",
    "\n",
    "def isStrongNumber(n):\n",
    "    dummy=n\n",
    "    sum=0\n",
    "    while dummy>0:\n",
    "        r=dummy%10\n",
    "        dummy//=10\n",
    "        sum+=factorial(r)\n",
    "\n",
    "    if n==sum:\n",
    "        return True\n",
    "    else:\n",
    "        return False\n",
    "    \n",
    "print(isStrongNumber(145))\n",
    "\n"
   ]
  },
  {
   "cell_type": "code",
   "execution_count": 55,
   "metadata": {},
   "outputs": [
    {
     "name": "stdout",
     "output_type": "stream",
     "text": [
      "True\n"
     ]
    }
   ],
   "source": [
    "# Perfect number \n",
    "# A perfect number is a positive integer that is equal to the sum of its proper divisors ,excluding itself(6,28,496)\n",
    "\n",
    "def divisors(n):\n",
    "    divisor_list=[]\n",
    "    for i in range(1,n):\n",
    "        if n%i==0:\n",
    "            divisor_list.append(i)\n",
    "    return divisor_list\n",
    "\n",
    "def isPerfectNumber(n):\n",
    "    divisor_list=divisors(n)\n",
    "    sum=0\n",
    "    for i in divisor_list:\n",
    "        sum+=i\n",
    "    if sum==n:\n",
    "        return True\n",
    "    else:\n",
    "        return False\n",
    "\n",
    "print(isPerfectNumber(28))"
   ]
  },
  {
   "cell_type": "code",
   "execution_count": null,
   "metadata": {},
   "outputs": [
    {
     "name": "stdout",
     "output_type": "stream",
     "text": [
      "False\n"
     ]
    }
   ],
   "source": [
    "# Automorphic number\n",
    "# An Automorphic number is a number whose square ends with the same digits as the number itself.\n",
    "\n",
    "def isAutomorphic(n):\n",
    "    square=n*n\n",
    "    while square>0:\n",
    "        r=square%10\n",
    "        break\n",
    "    if r==n:\n",
    "        return True\n",
    "    else:\n",
    "        return False\n",
    "\n",
    "print(isAutomorphic(5))\n",
    "    "
   ]
  },
  {
   "cell_type": "code",
   "execution_count": 71,
   "metadata": {},
   "outputs": [
    {
     "name": "stdout",
     "output_type": "stream",
     "text": [
      "True\n"
     ]
    }
   ],
   "source": [
    "# Perfect Square \n",
    "\n",
    "def isPerfectSquare(n):\n",
    "    a=1\n",
    "    if n>0:\n",
    "        while a<n:\n",
    "            if a*a==n:\n",
    "                return True\n",
    "            a+=1\n",
    "        else:\n",
    "            return False\n",
    "    else:\n",
    "        return False\n",
    "print(isPerfectSquare(9))"
   ]
  },
  {
   "cell_type": "code",
   "execution_count": 77,
   "metadata": {},
   "outputs": [
    {
     "name": "stdout",
     "output_type": "stream",
     "text": [
      "True\n"
     ]
    }
   ],
   "source": [
    "# Harshad number\n",
    "# A Harshad number (also called a Niven number) is a number that is divisible by the sum of its digits.(18,21,156)\n",
    "\n",
    "def isHarshadNum(n):\n",
    "    dummy=n\n",
    "    sum=0\n",
    "    while dummy>0:\n",
    "        r=dummy%10\n",
    "        dummy//=10\n",
    "        sum+=r\n",
    "\n",
    "    if n%sum==0:\n",
    "        return True\n",
    "    else:\n",
    "        return False\n",
    "print(isHarshadNum(18))"
   ]
  },
  {
   "cell_type": "code",
   "execution_count": 81,
   "metadata": {},
   "outputs": [
    {
     "name": "stdout",
     "output_type": "stream",
     "text": [
      "a\n"
     ]
    }
   ],
   "source": [
    "main_string='warwarwara'\n",
    "sub_string='war'\n",
    "\n",
    "while sub_string in main_string:\n",
    "    main_string=main_string.replace(sub_string,'')\n",
    "if main_string=='':\n",
    "    print(-1)\n",
    "else:\n",
    "    print(main_string)\n"
   ]
  },
  {
   "cell_type": "code",
   "execution_count": null,
   "metadata": {},
   "outputs": [],
   "source": [
    "# Abundant number\n",
    "\n",
    "def isAbundantNumber(n):\n",
    "    divisor_list=divisors(n)\n",
    "    sum=0\n",
    "    for i in divisor_list:\n",
    "        sum+=i\n",
    "    if sum>n:\n",
    "        return True\n",
    "    else:\n",
    "        return False\n",
    "\n",
    "print(isPerfectNumber(28))"
   ]
  }
 ],
 "metadata": {
  "kernelspec": {
   "display_name": "Python 3",
   "language": "python",
   "name": "python3"
  },
  "language_info": {
   "codemirror_mode": {
    "name": "ipython",
    "version": 3
   },
   "file_extension": ".py",
   "mimetype": "text/x-python",
   "name": "python",
   "nbconvert_exporter": "python",
   "pygments_lexer": "ipython3",
   "version": "3.13.1"
  }
 },
 "nbformat": 4,
 "nbformat_minor": 2
}
